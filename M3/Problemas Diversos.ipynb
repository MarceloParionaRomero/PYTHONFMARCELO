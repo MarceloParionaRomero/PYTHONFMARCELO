{
 "cells": [
  {
   "cell_type": "markdown",
   "metadata": {},
   "source": [
    "# PROBLEMAS DIVERSOS"
   ]
  },
  {
   "cell_type": "markdown",
   "metadata": {},
   "source": [
    "<h3>1.</h3>\n",
    "Realizar una función que permita la carga de n alumnos. Por cada alumno se deberá preguntar el nombre completo y permitir el ingreso de 3 notas. Las notas deben estar comprendidas entre 0 y 10. Devolver el listado de alumnos."
   ]
  },
  {
   "cell_type": "code",
   "execution_count": 22,
   "metadata": {},
   "outputs": [
    {
     "name": "stdout",
     "output_type": "stream",
     "text": [
      "Cuántos alumnos va a registrar: 2\n",
      "\n",
      "Ingrese el nombre completo.. dsa\n",
      "Ingrese nota 1 11\n",
      "Ingrese nota 2 11\n",
      "Ingrese nota 3 13\n",
      "\n",
      "Ingrese el nombre completo.. ssad\n",
      "Ingrese nota 1 11\n",
      "Ingrese nota 2 12\n",
      "Ingrese nota 3 13\n",
      "[{'Nombre': 'dsa', 'Nota1': 11.0, 'Nota2': 11.0, 'Nota3': 13.0}, {'Nombre': 'ssad', 'Nota1': 11.0, 'Nota2': 12.0, 'Nota3': 13.0}]\n"
     ]
    }
   ],
   "source": [
    "def lista_alumnos(q):\n",
    "    alumnos=[]\n",
    "    for n in range(q):\n",
    "        alumno = {}\n",
    "        \n",
    "        alumno['Nombre'] = input('\\nIngrese el nombre completo.. ')\n",
    "        alumno['Nota1'] = float(input('Ingrese nota 1 '))\n",
    "        alumno['Nota2'] = float(input('Ingrese nota 2 '))\n",
    "        alumno['Nota3'] = float(input('Ingrese nota 3 '))\n",
    "        \n",
    "        alumnos.append(alumno)\n",
    "    return alumnos\n",
    "num_alumnos = int(input('Cuántos alumnos va a registrar: '))\n",
    "lista = lista_alumnos(num_alumnos)    \n",
    "print(lista)\n"
   ]
  },
  {
   "cell_type": "markdown",
   "metadata": {},
   "source": [
    "### 2.\n",
    "Definir una función que dado un listado de alumnos evalúe cuántos aprobaron y cuántos desaprobaron, teniendo en cuenta que se aprueba con 4. La nota será el promedio de las 3 notas para cada alumno."
   ]
  },
  {
   "cell_type": "code",
   "execution_count": 112,
   "metadata": {},
   "outputs": [
    {
     "name": "stdout",
     "output_type": "stream",
     "text": [
      "\n",
      "El numero de aprobados es 2 \n",
      "El numero de desaprobados es 0\n"
     ]
    }
   ],
   "source": [
    "def aprobados(alumnos:list):\n",
    "        \n",
    "    c=0\n",
    "    a=0 \n",
    "    \n",
    "    for n in range(len(alumnos)):\n",
    "        prom=(alumnos[n][\"Nota1\"]+alumnos[n][\"Nota2\"]+alumnos[n][\"Nota3\"])/3\n",
    "        if (prom>=4):\n",
    "            a+=1\n",
    "    print(f\"\\nEl numero de aprobados es {a} \\nEl numero de desaprobados es {len(alumnos)-a}\")\n",
    "    \n",
    "    "
   ]
  },
  {
   "cell_type": "code",
   "execution_count": null,
   "metadata": {},
   "outputs": [],
   "source": [
    "aprobados(lista) "
   ]
  },
  {
   "cell_type": "markdown",
   "metadata": {},
   "source": [
    "### 3.\n",
    "Informar el promedio de nota del curso total."
   ]
  },
  {
   "cell_type": "code",
   "execution_count": 139,
   "metadata": {},
   "outputs": [],
   "source": [
    "def promedio(alumnos:list):\n",
    "    sum=0\n",
    "\n",
    "    for n in range(len(alumnos)):\n",
    "             sum=sum+(alumnos[n][\"Nota1\"]+alumnos[n][\"Nota2\"]+alumnos[n][\"Nota3\"])\n",
    "    print(f\"El promedio del salon es {sum/(len(alumnos)*3)}\")"
   ]
  },
  {
   "cell_type": "code",
   "execution_count": 168,
   "metadata": {},
   "outputs": [
    {
     "name": "stdout",
     "output_type": "stream",
     "text": [
      "El promedio del salon es 11.833333333333334\n"
     ]
    }
   ],
   "source": [
    "promedio(lista) "
   ]
  },
  {
   "cell_type": "markdown",
   "metadata": {},
   "source": [
    "### 4.\n",
    "Realizar una función que indique quién tuvo el promedio más alto y quién tuvo la nota promedio más baja."
   ]
  },
  {
   "cell_type": "code",
   "execution_count": 176,
   "metadata": {},
   "outputs": [
    {
     "ename": "IndentationError",
     "evalue": "expected an indented block (<ipython-input-176-f60f64e88d6b>, line 7)",
     "output_type": "error",
     "traceback": [
      "\u001b[1;36m  File \u001b[1;32m\"<ipython-input-176-f60f64e88d6b>\"\u001b[1;36m, line \u001b[1;32m7\u001b[0m\n\u001b[1;33m    min=prom\u001b[0m\n\u001b[1;37m    ^\u001b[0m\n\u001b[1;31mIndentationError\u001b[0m\u001b[1;31m:\u001b[0m expected an indented block\n"
     ]
    }
   ],
   "source": [
    "def mmpromedio(alumnos:list):\n",
    "        max=0\n",
    "        min=0\n",
    "        for n in range(len(alumnos)):\n",
    "            prom=(alumnos[n][\"Nota1\"]+alumnos[n][\"Nota2\"]+alumnos[n][\"Nota3\"])/3\n",
    "            if n==0:\n",
    "            min=prom\n",
    "            max=prom\n",
    "            i=n\n",
    "            j=n \n",
    "            else:\n",
    "                 if prom>=max:\n",
    "                        \n",
    "                    max=prom\n",
    "                    i=n\n",
    "                     elif prom<=min:\n",
    "\n",
    "                        min=prom\n",
    "                        j=n\n",
    "        print(\"El mayor promedio lo tuvo \"+alumnos[i][\"Nombre\"]+f\" con {round(max,2)}\" )\n",
    "        print(\"El menor promedio lo tuvo \"+alumnos[j][\"Nombre\"]+f\" con {round(min,2)}\" )"
   ]
  },
  {
   "cell_type": "code",
   "execution_count": 167,
   "metadata": {},
   "outputs": [
    {
     "ename": "NameError",
     "evalue": "name 'mmpromedio' is not defined",
     "output_type": "error",
     "traceback": [
      "\u001b[1;31m---------------------------------------------------------------------------\u001b[0m",
      "\u001b[1;31mNameError\u001b[0m                                 Traceback (most recent call last)",
      "\u001b[1;32m<ipython-input-167-7eeb3a9aef19>\u001b[0m in \u001b[0;36m<module>\u001b[1;34m\u001b[0m\n\u001b[1;32m----> 1\u001b[1;33m \u001b[0mmmpromedio\u001b[0m\u001b[1;33m(\u001b[0m\u001b[0mlista\u001b[0m\u001b[1;33m)\u001b[0m\u001b[1;33m\u001b[0m\u001b[1;33m\u001b[0m\u001b[0m\n\u001b[0m",
      "\u001b[1;31mNameError\u001b[0m: name 'mmpromedio' is not defined"
     ]
    }
   ],
   "source": [
    "mmpromedio(lista)"
   ]
  },
  {
   "cell_type": "code",
   "execution_count": null,
   "metadata": {},
   "outputs": [],
   "source": []
  },
  {
   "cell_type": "code",
   "execution_count": null,
   "metadata": {},
   "outputs": [],
   "source": []
  },
  {
   "cell_type": "code",
   "execution_count": null,
   "metadata": {},
   "outputs": [],
   "source": []
  },
  {
   "cell_type": "code",
   "execution_count": null,
   "metadata": {},
   "outputs": [],
   "source": []
  },
  {
   "cell_type": "code",
   "execution_count": null,
   "metadata": {},
   "outputs": [],
   "source": []
  },
  {
   "cell_type": "code",
   "execution_count": null,
   "metadata": {},
   "outputs": [],
   "source": []
  },
  {
   "cell_type": "markdown",
   "metadata": {},
   "source": [
    "### 5.\n",
    "Realizar una función que permita buscar un alumno por nombre, siendo el nombre completo o parcial, y devuelva una lista con los n alumnos que concuerden con ese nombre junto con todos sus datos, incluido el promedio de sus notas."
   ]
  },
  {
   "cell_type": "code",
   "execution_count": null,
   "metadata": {},
   "outputs": [],
   "source": [
    "def busca(alumnos:list,cad:str): \n",
    "    print(\"\\nAlumnos encontrados \\n\\n\")\n",
    "      for i in range(len(alumnos)):\n",
    "        if alumnos[i][\"Nombre\"][0:len(cad)]==cad:\n",
    "        print(alumnos[i][\"Nombre\"]+\" Notas \"+  str(alumnos[i][\"Nota1\"])+\",\" +str(alumnos[i][\"Nota2\"])+\",\"+str(alumnos[i][\"Nota3\"]))\n",
    "b=input(\"Ingrese criterio de búsqueda:  \")\n"
   ]
  },
  {
   "cell_type": "code",
   "execution_count": null,
   "metadata": {},
   "outputs": [],
   "source": [
    "busca(lista,b)"
   ]
  },
  {
   "cell_type": "code",
   "execution_count": null,
   "metadata": {},
   "outputs": [],
   "source": []
  },
  {
   "cell_type": "code",
   "execution_count": null,
   "metadata": {},
   "outputs": [],
   "source": []
  },
  {
   "cell_type": "code",
   "execution_count": null,
   "metadata": {},
   "outputs": [],
   "source": []
  },
  {
   "cell_type": "code",
   "execution_count": null,
   "metadata": {},
   "outputs": [],
   "source": []
  },
  {
   "cell_type": "code",
   "execution_count": null,
   "metadata": {},
   "outputs": [],
   "source": []
  },
  {
   "cell_type": "code",
   "execution_count": null,
   "metadata": {},
   "outputs": [],
   "source": []
  },
  {
   "cell_type": "code",
   "execution_count": null,
   "metadata": {},
   "outputs": [],
   "source": []
  },
  {
   "cell_type": "code",
   "execution_count": null,
   "metadata": {},
   "outputs": [],
   "source": []
  }
 ],
 "metadata": {
  "kernelspec": {
   "display_name": "Python 3",
   "language": "python",
   "name": "python3"
  },
  "language_info": {
   "codemirror_mode": {
    "name": "ipython",
    "version": 3
   },
   "file_extension": ".py",
   "mimetype": "text/x-python",
   "name": "python",
   "nbconvert_exporter": "python",
   "pygments_lexer": "ipython3",
   "version": "3.8.5"
  }
 },
 "nbformat": 4,
 "nbformat_minor": 4
}
