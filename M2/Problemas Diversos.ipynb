{
 "cells": [
  {
   "cell_type": "markdown",
   "metadata": {},
   "source": [
    "# PROBLEMAS DIVERSOS"
   ]
  },
  {
   "cell_type": "markdown",
   "metadata": {},
   "source": [
    "<h3>1.</h3>\n",
    "Realizar una función que permita la carga de n alumnos. Por cada alumno se deberá preguntar el nombre completo y permitir el ingreso de 3 notas. Las notas deben estar comprendidas entre 0 y 10. Devolver el listado de alumnos."
   ]
  },
  {
   "cell_type": "code",
   "execution_count": 18,
   "metadata": {},
   "outputs": [],
   "source": [
    "def lista_alumnos(num_alumnos):\n",
    "    alumnos=[]\n",
    "    for n in range(num_alumnos):\n",
    "        alumno = {}\n",
    "        \n",
    "        alumno['Nombre'] = input('Ingrese el nombre completo')\n",
    "        alumno['Nota1'] = float(input('Ingrese nota 1'))\n",
    "        alumno['Nota2'] = float(input('Ingrese nota 2'))\n",
    "        alumno['Nota3'] = float(input('Ingrese nota 3'))\n",
    "        \n",
    "        alumnos.append(alumno)\n",
    "    return alumnos"
   ]
  },
  {
   "cell_type": "code",
   "execution_count": 19,
   "metadata": {},
   "outputs": [
    {
     "ename": "SyntaxError",
     "evalue": "unexpected EOF while parsing (<ipython-input-19-fe1b08ef3d97>, line 1)",
     "output_type": "error",
     "traceback": [
      "\u001b[1;36m  File \u001b[1;32m\"<ipython-input-19-fe1b08ef3d97>\"\u001b[1;36m, line \u001b[1;32m1\u001b[0m\n\u001b[1;33m    num_alumnos = int(input('Introduce la cantidad de alumnos: ')\u001b[0m\n\u001b[1;37m                                                                 ^\u001b[0m\n\u001b[1;31mSyntaxError\u001b[0m\u001b[1;31m:\u001b[0m unexpected EOF while parsing\n"
     ]
    }
   ],
   "source": [
    "num_alumnos = int(input('Introduce la cantidad de alumnos: ')"
   ]
  },
  {
   "cell_type": "code",
   "execution_count": 20,
   "metadata": {},
   "outputs": [
    {
     "name": "stdout",
     "output_type": "stream",
     "text": [
      "Ingrese el nombre completoDASD\n",
      "Ingrese nota 112\n",
      "Ingrese nota 211\n",
      "Ingrese nota 311\n",
      "Ingrese el nombre completoSDDAS\n",
      "Ingrese nota 111\n",
      "Ingrese nota 211\n",
      "Ingrese nota 313\n",
      "Ingrese el nombre completoDSAD\n",
      "Ingrese nota 112\n",
      "Ingrese nota 213\n",
      "Ingrese nota 313\n"
     ]
    }
   ],
   "source": [
    "\n",
    "list_alumnos = lista_alumnos(num_alumnos)"
   ]
  },
  {
   "cell_type": "code",
   "execution_count": null,
   "metadata": {},
   "outputs": [],
   "source": [
    "        "
   ]
  },
  {
   "cell_type": "code",
   "execution_count": null,
   "metadata": {},
   "outputs": [],
   "source": []
  },
  {
   "cell_type": "markdown",
   "metadata": {},
   "source": [
    "### 2.\n",
    "Definir una función que dado un listado de alumnos evalúe cuántos aprobaron y cuántos desaprobaron, teniendo en cuenta que se aprueba con 4. La nota será el promedio de las 3 notas para cada alumno."
   ]
  },
  {
   "cell_type": "code",
   "execution_count": 28,
   "metadata": {},
   "outputs": [
    {
     "ename": "IndentationError",
     "evalue": "unexpected indent (<ipython-input-28-8c721872f527>, line 5)",
     "output_type": "error",
     "traceback": [
      "\u001b[1;36m  File \u001b[1;32m\"<ipython-input-28-8c721872f527>\"\u001b[1;36m, line \u001b[1;32m5\u001b[0m\n\u001b[1;33m    if prom>=4:\u001b[0m\n\u001b[1;37m    ^\u001b[0m\n\u001b[1;31mIndentationError\u001b[0m\u001b[1;31m:\u001b[0m unexpected indent\n"
     ]
    }
   ],
   "source": [
    "def aprobados(alumnos:list): \n",
    "    a=0 \n",
    "    for n in range(len(alumnos)):\n",
    "         prom=(alumnos[n][\"Nota1\"]+alumnos[n][\"Nota2\"]+alumnos[n][\"Nota3\"])/3\n",
    "            if prom>=4:\n",
    "                a+=1\n",
    "print(f\"El numero de aprobados es {a} \\nEl numero de desaprobados es {len(alumnos)-a}\")"
   ]
  },
  {
   "cell_type": "markdown",
   "metadata": {},
   "source": [
    "### 3.\n",
    "Informar el promedio de nota del curso total."
   ]
  },
  {
   "cell_type": "code",
   "execution_count": null,
   "metadata": {},
   "outputs": [],
   "source": [
    "def promedio(alumnos:list):\n",
    "\n",
    "       sum=0\n",
    "           for n in range(len(alumnos)):\n",
    "                 sum=sum+(alumnos[n][\"Nota1\"]+alumnos[n][\"Nota2\"]+alumnos[n][\"Nota3\"])\n",
    "        print(f\"El promedio del salon es {sum/(len(alumnos)*3)}\")"
   ]
  },
  {
   "cell_type": "code",
   "execution_count": null,
   "metadata": {},
   "outputs": [],
   "source": [
    "promedio(list_alumnos) "
   ]
  },
  {
   "cell_type": "markdown",
   "metadata": {},
   "source": [
    "### 4.\n",
    "Realizar una función que indique quién tuvo el promedio más alto y quién tuvo la nota promedio más baja."
   ]
  },
  {
   "cell_type": "code",
   "execution_count": null,
   "metadata": {},
   "outputs": [],
   "source": [
    "def aprobados(alumnos:list):\n",
    "max=0\n",
    "min=0\n",
    "for n in range(len(alumnos)):\n",
    "     prom=(alumnos[n][\"Nota1\"]+alumnos[n][\"Nota2\"]+alumnos[n][\"Nota3\"])/3\n",
    "        if n==0:\n",
    "             min=prom\n",
    "                max=prom\n",
    "                 i=n\n",
    "                     j=n \n",
    "        else:\n",
    "        if prom>=max:\n",
    "             max=prom\n",
    "            i=n\n",
    "        elif prom<=min:\n",
    "            min=prom\n",
    "            j=n\n",
    "print(\"El mayor promedio lo tuvo \"+alumnos[i][\"Nombre\"]+f\" con {round(max,2)}\" )\n",
    "print(\"El menor promedio lo tuvo \"+alumnos[j][\"Nombre\"]+f\" con {round(min,2)}\" )\n"
   ]
  },
  {
   "cell_type": "code",
   "execution_count": null,
   "metadata": {},
   "outputs": [],
   "source": [
    "aprobados(list_alumnos)"
   ]
  },
  {
   "cell_type": "code",
   "execution_count": null,
   "metadata": {},
   "outputs": [],
   "source": []
  },
  {
   "cell_type": "markdown",
   "metadata": {},
   "source": [
    "### 5.\n",
    "Realizar una función que permita buscar un alumno por nombre, siendo el nombre completo o parcial, y devuelva una lista con los n alumnos que concuerden con ese nombre junto con todos sus datos, incluido el promedio de sus notas."
   ]
  },
  {
   "cell_type": "code",
   "execution_count": null,
   "metadata": {},
   "outputs": [],
   "source": [
    "def busca(alumnos:list,cad:str):\n",
    "print(\"Alumnos encontrados \\n\\n\")\n",
    "  for i in range(len(alumnos)):\n",
    "    if alumnos[i][\"Nombre\"][0:len(cad)]==cad:\n",
    "    print(alumnos[i][\"Nombre\"]+\" Notas \"+  str(alumnos[i][\"Nota1\"])+\",\" +str(alumnos[i][\"Nota2\"])+\",\"+str(alumnos[i][\"Nota3\"]))\n",
    "\n"
   ]
  },
  {
   "cell_type": "code",
   "execution_count": null,
   "metadata": {},
   "outputs": [],
   "source": [
    "busca(list_alumnos,\"ma\")"
   ]
  }
 ],
 "metadata": {
  "kernelspec": {
   "display_name": "Python 3",
   "language": "python",
   "name": "python3"
  },
  "language_info": {
   "codemirror_mode": {
    "name": "ipython",
    "version": 3
   },
   "file_extension": ".py",
   "mimetype": "text/x-python",
   "name": "python",
   "nbconvert_exporter": "python",
   "pygments_lexer": "ipython3",
   "version": "3.8.5"
  }
 },
 "nbformat": 4,
 "nbformat_minor": 4
}
